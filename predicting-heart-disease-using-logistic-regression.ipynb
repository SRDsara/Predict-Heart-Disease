{
 "cells": [
  {
   "cell_type": "code",
   "execution_count": 9,
   "id": "ed8fea9f",
   "metadata": {
    "execution": {
     "iopub.execute_input": "2023-09-05T18:46:23.186951Z",
     "iopub.status.busy": "2023-09-05T18:46:23.186443Z",
     "iopub.status.idle": "2023-09-05T18:46:25.186470Z",
     "shell.execute_reply": "2023-09-05T18:46:25.184991Z"
    },
    "papermill": {
     "duration": 2.018528,
     "end_time": "2023-09-05T18:46:25.190084",
     "exception": false,
     "start_time": "2023-09-05T18:46:23.171556",
     "status": "completed"
    },
    "tags": []
   },
   "outputs": [],
   "source": [
    "import matplotlib.pyplot as plt\n",
    "import numpy as np\n",
    "import pandas as pd\n",
    "import seaborn as sns\n",
    "from seaborn import countplot\n",
    "from sklearn import preprocessing, metrics\n",
    "from sklearn.linear_model import LogisticRegression\n",
    "from sklearn.metrics import accuracy_score\n",
    "from sklearn.model_selection import train_test_split"
   ]
  },
  {
   "cell_type": "markdown",
   "id": "542c47fe",
   "metadata": {
    "papermill": {
     "duration": 0.018001,
     "end_time": "2023-09-05T18:46:25.227148",
     "exception": false,
     "start_time": "2023-09-05T18:46:25.209147",
     "status": "completed"
    },
    "tags": []
   },
   "source": [
    "# 1-Importing Dataset"
   ]
  },
  {
   "cell_type": "code",
   "execution_count": 10,
   "id": "f8efdc1e",
   "metadata": {
    "execution": {
     "iopub.execute_input": "2023-09-05T18:46:25.266971Z",
     "iopub.status.busy": "2023-09-05T18:46:25.265796Z",
     "iopub.status.idle": "2023-09-05T18:46:25.297692Z",
     "shell.execute_reply": "2023-09-05T18:46:25.296647Z"
    },
    "papermill": {
     "duration": 0.055191,
     "end_time": "2023-09-05T18:46:25.301024",
     "exception": false,
     "start_time": "2023-09-05T18:46:25.245833",
     "status": "completed"
    },
    "tags": []
   },
   "outputs": [],
   "source": [
    "df = pd.read_csv(\"F:\\\\tutorials\\machine learning\\machine_learning_with_python_jadi-main\\heart_disease.csv\")"
   ]
  },
  {
   "cell_type": "code",
   "execution_count": 11,
   "id": "8b86a869",
   "metadata": {
    "execution": {
     "iopub.execute_input": "2023-09-05T18:46:25.343771Z",
     "iopub.status.busy": "2023-09-05T18:46:25.342977Z",
     "iopub.status.idle": "2023-09-05T18:46:25.379674Z",
     "shell.execute_reply": "2023-09-05T18:46:25.378537Z"
    },
    "papermill": {
     "duration": 0.060864,
     "end_time": "2023-09-05T18:46:25.383102",
     "exception": false,
     "start_time": "2023-09-05T18:46:25.322238",
     "status": "completed"
    },
    "tags": []
   },
   "outputs": [
    {
     "data": {
      "text/html": [
       "<div>\n",
       "<style scoped>\n",
       "    .dataframe tbody tr th:only-of-type {\n",
       "        vertical-align: middle;\n",
       "    }\n",
       "\n",
       "    .dataframe tbody tr th {\n",
       "        vertical-align: top;\n",
       "    }\n",
       "\n",
       "    .dataframe thead th {\n",
       "        text-align: right;\n",
       "    }\n",
       "</style>\n",
       "<table border=\"1\" class=\"dataframe\">\n",
       "  <thead>\n",
       "    <tr style=\"text-align: right;\">\n",
       "      <th></th>\n",
       "      <th>male</th>\n",
       "      <th>age</th>\n",
       "      <th>education</th>\n",
       "      <th>currentSmoker</th>\n",
       "      <th>cigsPerDay</th>\n",
       "      <th>BPMeds</th>\n",
       "      <th>prevalentStroke</th>\n",
       "      <th>prevalentHyp</th>\n",
       "      <th>diabetes</th>\n",
       "      <th>totChol</th>\n",
       "      <th>sysBP</th>\n",
       "      <th>diaBP</th>\n",
       "      <th>BMI</th>\n",
       "      <th>heartRate</th>\n",
       "      <th>glucose</th>\n",
       "      <th>TenYearCHD</th>\n",
       "    </tr>\n",
       "  </thead>\n",
       "  <tbody>\n",
       "    <tr>\n",
       "      <th>0</th>\n",
       "      <td>1</td>\n",
       "      <td>39</td>\n",
       "      <td>4.0</td>\n",
       "      <td>0</td>\n",
       "      <td>0.0</td>\n",
       "      <td>0.0</td>\n",
       "      <td>0</td>\n",
       "      <td>0</td>\n",
       "      <td>0</td>\n",
       "      <td>195.0</td>\n",
       "      <td>106.0</td>\n",
       "      <td>70.0</td>\n",
       "      <td>26.97</td>\n",
       "      <td>80.0</td>\n",
       "      <td>77.0</td>\n",
       "      <td>0</td>\n",
       "    </tr>\n",
       "    <tr>\n",
       "      <th>1</th>\n",
       "      <td>0</td>\n",
       "      <td>46</td>\n",
       "      <td>2.0</td>\n",
       "      <td>0</td>\n",
       "      <td>0.0</td>\n",
       "      <td>0.0</td>\n",
       "      <td>0</td>\n",
       "      <td>0</td>\n",
       "      <td>0</td>\n",
       "      <td>250.0</td>\n",
       "      <td>121.0</td>\n",
       "      <td>81.0</td>\n",
       "      <td>28.73</td>\n",
       "      <td>95.0</td>\n",
       "      <td>76.0</td>\n",
       "      <td>0</td>\n",
       "    </tr>\n",
       "    <tr>\n",
       "      <th>2</th>\n",
       "      <td>1</td>\n",
       "      <td>48</td>\n",
       "      <td>1.0</td>\n",
       "      <td>1</td>\n",
       "      <td>20.0</td>\n",
       "      <td>0.0</td>\n",
       "      <td>0</td>\n",
       "      <td>0</td>\n",
       "      <td>0</td>\n",
       "      <td>245.0</td>\n",
       "      <td>127.5</td>\n",
       "      <td>80.0</td>\n",
       "      <td>25.34</td>\n",
       "      <td>75.0</td>\n",
       "      <td>70.0</td>\n",
       "      <td>0</td>\n",
       "    </tr>\n",
       "    <tr>\n",
       "      <th>3</th>\n",
       "      <td>0</td>\n",
       "      <td>61</td>\n",
       "      <td>3.0</td>\n",
       "      <td>1</td>\n",
       "      <td>30.0</td>\n",
       "      <td>0.0</td>\n",
       "      <td>0</td>\n",
       "      <td>1</td>\n",
       "      <td>0</td>\n",
       "      <td>225.0</td>\n",
       "      <td>150.0</td>\n",
       "      <td>95.0</td>\n",
       "      <td>28.58</td>\n",
       "      <td>65.0</td>\n",
       "      <td>103.0</td>\n",
       "      <td>1</td>\n",
       "    </tr>\n",
       "    <tr>\n",
       "      <th>4</th>\n",
       "      <td>0</td>\n",
       "      <td>46</td>\n",
       "      <td>3.0</td>\n",
       "      <td>1</td>\n",
       "      <td>23.0</td>\n",
       "      <td>0.0</td>\n",
       "      <td>0</td>\n",
       "      <td>0</td>\n",
       "      <td>0</td>\n",
       "      <td>285.0</td>\n",
       "      <td>130.0</td>\n",
       "      <td>84.0</td>\n",
       "      <td>23.10</td>\n",
       "      <td>85.0</td>\n",
       "      <td>85.0</td>\n",
       "      <td>0</td>\n",
       "    </tr>\n",
       "  </tbody>\n",
       "</table>\n",
       "</div>"
      ],
      "text/plain": [
       "   male  age  education  currentSmoker  cigsPerDay  BPMeds  prevalentStroke   \n",
       "0     1   39        4.0              0         0.0     0.0                0  \\\n",
       "1     0   46        2.0              0         0.0     0.0                0   \n",
       "2     1   48        1.0              1        20.0     0.0                0   \n",
       "3     0   61        3.0              1        30.0     0.0                0   \n",
       "4     0   46        3.0              1        23.0     0.0                0   \n",
       "\n",
       "   prevalentHyp  diabetes  totChol  sysBP  diaBP    BMI  heartRate  glucose   \n",
       "0             0         0    195.0  106.0   70.0  26.97       80.0     77.0  \\\n",
       "1             0         0    250.0  121.0   81.0  28.73       95.0     76.0   \n",
       "2             0         0    245.0  127.5   80.0  25.34       75.0     70.0   \n",
       "3             1         0    225.0  150.0   95.0  28.58       65.0    103.0   \n",
       "4             0         0    285.0  130.0   84.0  23.10       85.0     85.0   \n",
       "\n",
       "   TenYearCHD  \n",
       "0           0  \n",
       "1           0  \n",
       "2           0  \n",
       "3           1  \n",
       "4           0  "
      ]
     },
     "execution_count": 11,
     "metadata": {},
     "output_type": "execute_result"
    }
   ],
   "source": [
    "df.head()"
   ]
  },
  {
   "cell_type": "markdown",
   "id": "ee97d087",
   "metadata": {
    "papermill": {
     "duration": 0.018923,
     "end_time": "2023-09-05T18:46:25.422451",
     "exception": false,
     "start_time": "2023-09-05T18:46:25.403528",
     "status": "completed"
    },
    "tags": []
   },
   "source": [
    "# 2- Cleaning Dataset"
   ]
  },
  {
   "cell_type": "markdown",
   "id": "4b2b12de",
   "metadata": {
    "papermill": {
     "duration": 0.014561,
     "end_time": "2023-09-05T18:46:25.455785",
     "exception": false,
     "start_time": "2023-09-05T18:46:25.441224",
     "status": "completed"
    },
    "tags": []
   },
   "source": [
    "## 2-1- Deleting Extra Columns"
   ]
  },
  {
   "cell_type": "code",
   "execution_count": 12,
   "id": "397faf6e",
   "metadata": {
    "execution": {
     "iopub.execute_input": "2023-09-05T18:46:25.487022Z",
     "iopub.status.busy": "2023-09-05T18:46:25.486610Z",
     "iopub.status.idle": "2023-09-05T18:46:25.500496Z",
     "shell.execute_reply": "2023-09-05T18:46:25.499266Z"
    },
    "papermill": {
     "duration": 0.032394,
     "end_time": "2023-09-05T18:46:25.503195",
     "exception": false,
     "start_time": "2023-09-05T18:46:25.470801",
     "status": "completed"
    },
    "tags": []
   },
   "outputs": [],
   "source": [
    "df1 = df.drop('education', axis=1)"
   ]
  },
  {
   "cell_type": "markdown",
   "id": "f2e5591f",
   "metadata": {
    "papermill": {
     "duration": 0.019756,
     "end_time": "2023-09-05T18:46:25.539902",
     "exception": false,
     "start_time": "2023-09-05T18:46:25.520146",
     "status": "completed"
    },
    "tags": []
   },
   "source": [
    "## 2-2- Dropping Nan Values"
   ]
  },
  {
   "cell_type": "code",
   "execution_count": 13,
   "id": "d3b85247",
   "metadata": {
    "execution": {
     "iopub.execute_input": "2023-09-05T18:46:25.570431Z",
     "iopub.status.busy": "2023-09-05T18:46:25.569605Z",
     "iopub.status.idle": "2023-09-05T18:46:25.578951Z",
     "shell.execute_reply": "2023-09-05T18:46:25.577843Z"
    },
    "papermill": {
     "duration": 0.027379,
     "end_time": "2023-09-05T18:46:25.581385",
     "exception": false,
     "start_time": "2023-09-05T18:46:25.554006",
     "status": "completed"
    },
    "tags": []
   },
   "outputs": [
    {
     "data": {
      "text/plain": [
       "male                 0\n",
       "age                  0\n",
       "currentSmoker        0\n",
       "cigsPerDay          29\n",
       "BPMeds              53\n",
       "prevalentStroke      0\n",
       "prevalentHyp         0\n",
       "diabetes             0\n",
       "totChol             50\n",
       "sysBP                0\n",
       "diaBP                0\n",
       "BMI                 19\n",
       "heartRate            1\n",
       "glucose            388\n",
       "TenYearCHD           0\n",
       "dtype: int64"
      ]
     },
     "execution_count": 13,
     "metadata": {},
     "output_type": "execute_result"
    }
   ],
   "source": [
    "df1.isnull().sum()"
   ]
  },
  {
   "cell_type": "code",
   "execution_count": 14,
   "id": "c39718e1",
   "metadata": {
    "execution": {
     "iopub.execute_input": "2023-09-05T18:46:25.612407Z",
     "iopub.status.busy": "2023-09-05T18:46:25.611832Z",
     "iopub.status.idle": "2023-09-05T18:46:25.620399Z",
     "shell.execute_reply": "2023-09-05T18:46:25.619267Z"
    },
    "papermill": {
     "duration": 0.028357,
     "end_time": "2023-09-05T18:46:25.624240",
     "exception": false,
     "start_time": "2023-09-05T18:46:25.595883",
     "status": "completed"
    },
    "tags": []
   },
   "outputs": [],
   "source": [
    "df1.dropna(inplace=True)"
   ]
  },
  {
   "cell_type": "code",
   "execution_count": 15,
   "id": "cedfbed1",
   "metadata": {
    "execution": {
     "iopub.execute_input": "2023-09-05T18:46:25.667533Z",
     "iopub.status.busy": "2023-09-05T18:46:25.666685Z",
     "iopub.status.idle": "2023-09-05T18:46:25.675568Z",
     "shell.execute_reply": "2023-09-05T18:46:25.674688Z"
    },
    "papermill": {
     "duration": 0.034282,
     "end_time": "2023-09-05T18:46:25.678929",
     "exception": false,
     "start_time": "2023-09-05T18:46:25.644647",
     "status": "completed"
    },
    "tags": []
   },
   "outputs": [
    {
     "data": {
      "text/plain": [
       "male               0\n",
       "age                0\n",
       "currentSmoker      0\n",
       "cigsPerDay         0\n",
       "BPMeds             0\n",
       "prevalentStroke    0\n",
       "prevalentHyp       0\n",
       "diabetes           0\n",
       "totChol            0\n",
       "sysBP              0\n",
       "diaBP              0\n",
       "BMI                0\n",
       "heartRate          0\n",
       "glucose            0\n",
       "TenYearCHD         0\n",
       "dtype: int64"
      ]
     },
     "execution_count": 15,
     "metadata": {},
     "output_type": "execute_result"
    }
   ],
   "source": [
    "df1.isnull().sum()"
   ]
  },
  {
   "cell_type": "markdown",
   "id": "45b5b558",
   "metadata": {
    "papermill": {
     "duration": 0.013841,
     "end_time": "2023-09-05T18:46:25.709648",
     "exception": false,
     "start_time": "2023-09-05T18:46:25.695807",
     "status": "completed"
    },
    "tags": []
   },
   "source": [
    "# 3- Plotting"
   ]
  },
  {
   "cell_type": "code",
   "execution_count": 16,
   "id": "19134244",
   "metadata": {
    "execution": {
     "iopub.execute_input": "2023-09-05T18:46:25.740421Z",
     "iopub.status.busy": "2023-09-05T18:46:25.739925Z",
     "iopub.status.idle": "2023-09-05T18:46:26.619845Z",
     "shell.execute_reply": "2023-09-05T18:46:26.618455Z"
    },
    "papermill": {
     "duration": 0.89881,
     "end_time": "2023-09-05T18:46:26.622654",
     "exception": false,
     "start_time": "2023-09-05T18:46:25.723844",
     "status": "completed"
    },
    "tags": []
   },
   "outputs": [
    {
     "data": {
      "image/png": "[encoded data removed]",
      "text/plain": [
       "<Figure size 640x480 with 2 Axes>"
      ]
     },
     "metadata": {},
     "output_type": "display_data"
    }
   ],
   "source": [
    "fig, ax = plt.subplots(2)\n",
    "sns.countplot(x='male',hue='TenYearCHD',data=df, ax=ax[0])\n",
    "sns.countplot(x='age',hue='TenYearCHD', data=df, ax=ax[1])\n",
    "plt.show()"
   ]
  },
  {
   "cell_type": "code",
   "execution_count": 17,
   "id": "0bc9be5e",
   "metadata": {
    "execution": {
     "iopub.execute_input": "2023-09-05T18:46:26.656154Z",
     "iopub.status.busy": "2023-09-05T18:46:26.655488Z",
     "iopub.status.idle": "2023-09-05T18:46:27.388039Z",
     "shell.execute_reply": "2023-09-05T18:46:27.385801Z"
    },
    "papermill": {
     "duration": 0.753756,
     "end_time": "2023-09-05T18:46:27.391705",
     "exception": false,
     "start_time": "2023-09-05T18:46:26.637949",
     "status": "completed"
    },
    "tags": []
   },
   "outputs": [
    {
     "data": {
      "image/png": "[encoded data removed]",
      "text/plain": [
       "<Figure size 640x480 with 2 Axes>"
      ]
     },
     "metadata": {},
     "output_type": "display_data"
    }
   ],
   "source": [
    "fig, ax = plt.subplots(2)\n",
    "sns.countplot(x='cigsPerDay',hue='TenYearCHD',data=df, ax=ax[0])\n",
    "sns.countplot(x='prevalentStroke',hue='TenYearCHD', data=df, ax=ax[1])\n",
    "plt.show()"
   ]
  },
  {
   "cell_type": "markdown",
   "id": "3af2d4dc",
   "metadata": {
    "papermill": {
     "duration": 0.015182,
     "end_time": "2023-09-05T18:46:27.422178",
     "exception": false,
     "start_time": "2023-09-05T18:46:27.406996",
     "status": "completed"
    },
    "tags": []
   },
   "source": [
    "# 4- Defining X(features) and y(label)"
   ]
  },
  {
   "cell_type": "code",
   "execution_count": 18,
   "id": "f5156348",
   "metadata": {
    "execution": {
     "iopub.execute_input": "2023-09-05T18:46:27.454577Z",
     "iopub.status.busy": "2023-09-05T18:46:27.454146Z",
     "iopub.status.idle": "2023-09-05T18:46:27.461815Z",
     "shell.execute_reply": "2023-09-05T18:46:27.460581Z"
    },
    "papermill": {
     "duration": 0.027027,
     "end_time": "2023-09-05T18:46:27.464591",
     "exception": false,
     "start_time": "2023-09-05T18:46:27.437564",
     "status": "completed"
    },
    "tags": []
   },
   "outputs": [],
   "source": [
    "X = df1[[\"male\",\"age\",\"currentSmoker\",\"cigsPerDay\",\"BPMeds\",\"prevalentStroke\",\"prevalentHyp\",\"diabetes\",\"totChol\",\"sysBP\",\"diaBP\",\"BMI\",\"heartRate\",\"glucose\"]]\n",
    "y = df1[[\"TenYearCHD\"]]"
   ]
  },
  {
   "cell_type": "markdown",
   "id": "f6b8db00",
   "metadata": {
    "papermill": {
     "duration": 0.015728,
     "end_time": "2023-09-05T18:46:27.496527",
     "exception": false,
     "start_time": "2023-09-05T18:46:27.480799",
     "status": "completed"
    },
    "tags": []
   },
   "source": [
    "# 5- Normalizing dataset"
   ]
  },
  {
   "cell_type": "markdown",
   "id": "7d6ea47d",
   "metadata": {
    "papermill": {
     "duration": 0.015129,
     "end_time": "2023-09-05T18:46:27.526925",
     "exception": false,
     "start_time": "2023-09-05T18:46:27.511796",
     "status": "completed"
    },
    "tags": []
   },
   "source": [
    "## 5-1- Before Normalization"
   ]
  },
  {
   "cell_type": "code",
   "execution_count": 19,
   "id": "3f18973f",
   "metadata": {
    "execution": {
     "iopub.execute_input": "2023-09-05T18:46:27.562197Z",
     "iopub.status.busy": "2023-09-05T18:46:27.561783Z",
     "iopub.status.idle": "2023-09-05T18:46:27.571729Z",
     "shell.execute_reply": "2023-09-05T18:46:27.570614Z"
    },
    "papermill": {
     "duration": 0.030119,
     "end_time": "2023-09-05T18:46:27.573954",
     "exception": false,
     "start_time": "2023-09-05T18:46:27.543835",
     "status": "completed"
    },
    "tags": []
   },
   "outputs": [
    {
     "data": {
      "text/plain": [
       "male                 0.445185\n",
       "age                 49.578821\n",
       "currentSmoker        0.488397\n",
       "cigsPerDay           9.005335\n",
       "BPMeds               0.030408\n",
       "prevalentStroke      0.005601\n",
       "prevalentHyp         0.311816\n",
       "diabetes             0.027207\n",
       "totChol            236.952787\n",
       "sysBP              132.365964\n",
       "diaBP               82.933716\n",
       "BMI                 25.809651\n",
       "heartRate           75.703921\n",
       "glucose             81.883169\n",
       "dtype: float64"
      ]
     },
     "execution_count": 19,
     "metadata": {},
     "output_type": "execute_result"
    }
   ],
   "source": [
    "X.mean()"
   ]
  },
  {
   "cell_type": "code",
   "execution_count": 20,
   "id": "a3d923de",
   "metadata": {
    "execution": {
     "iopub.execute_input": "2023-09-05T18:46:27.609196Z",
     "iopub.status.busy": "2023-09-05T18:46:27.608402Z",
     "iopub.status.idle": "2023-09-05T18:46:27.618808Z",
     "shell.execute_reply": "2023-09-05T18:46:27.617027Z"
    },
    "papermill": {
     "duration": 0.031325,
     "end_time": "2023-09-05T18:46:27.621789",
     "exception": false,
     "start_time": "2023-09-05T18:46:27.590464",
     "status": "completed"
    },
    "tags": []
   },
   "outputs": [
    {
     "data": {
      "text/plain": [
       "male                0.497053\n",
       "age                 8.569322\n",
       "currentSmoker       0.499932\n",
       "cigsPerDay         11.922440\n",
       "BPMeds              0.171730\n",
       "prevalentStroke     0.074643\n",
       "prevalentHyp        0.463297\n",
       "diabetes            0.162709\n",
       "totChol            44.610417\n",
       "sysBP              22.051951\n",
       "diaBP              11.933321\n",
       "BMI                 4.065894\n",
       "heartRate          11.957763\n",
       "glucose            23.888039\n",
       "dtype: float64"
      ]
     },
     "execution_count": 20,
     "metadata": {},
     "output_type": "execute_result"
    }
   ],
   "source": [
    "X.std()"
   ]
  },
  {
   "cell_type": "markdown",
   "id": "fdf08127",
   "metadata": {
    "papermill": {
     "duration": 0.015232,
     "end_time": "2023-09-05T18:46:27.652748",
     "exception": false,
     "start_time": "2023-09-05T18:46:27.637516",
     "status": "completed"
    },
    "tags": []
   },
   "source": [
    "## 5-2- Normalization"
   ]
  },
  {
   "cell_type": "code",
   "execution_count": 21,
   "id": "ad53ebfa",
   "metadata": {
    "execution": {
     "iopub.execute_input": "2023-09-05T18:46:27.685916Z",
     "iopub.status.busy": "2023-09-05T18:46:27.685482Z",
     "iopub.status.idle": "2023-09-05T18:46:27.699299Z",
     "shell.execute_reply": "2023-09-05T18:46:27.698423Z"
    },
    "papermill": {
     "duration": 0.03329,
     "end_time": "2023-09-05T18:46:27.701770",
     "exception": false,
     "start_time": "2023-09-05T18:46:27.668480",
     "status": "completed"
    },
    "tags": []
   },
   "outputs": [],
   "source": [
    "scaler = preprocessing.StandardScaler().fit(X)\n",
    "X = scaler.fit_transform(X)"
   ]
  },
  {
   "cell_type": "markdown",
   "id": "596889e0",
   "metadata": {
    "papermill": {
     "duration": 0.015687,
     "end_time": "2023-09-05T18:46:27.799196",
     "exception": false,
     "start_time": "2023-09-05T18:46:27.783509",
     "status": "completed"
    },
    "tags": []
   },
   "source": [
    "## 5-3- After Normalization"
   ]
  },
  {
   "cell_type": "code",
   "execution_count": 22,
   "id": "5da7f6cb",
   "metadata": {
    "execution": {
     "iopub.execute_input": "2023-09-05T18:46:27.833385Z",
     "iopub.status.busy": "2023-09-05T18:46:27.832595Z",
     "iopub.status.idle": "2023-09-05T18:46:27.838985Z",
     "shell.execute_reply": "2023-09-05T18:46:27.838074Z"
    },
    "papermill": {
     "duration": 0.02664,
     "end_time": "2023-09-05T18:46:27.841519",
     "exception": false,
     "start_time": "2023-09-05T18:46:27.814879",
     "status": "completed"
    },
    "tags": []
   },
   "outputs": [
    {
     "data": {
      "text/plain": [
       "-3.9394874081886437e-17"
      ]
     },
     "execution_count": 22,
     "metadata": {},
     "output_type": "execute_result"
    }
   ],
   "source": [
    "X.mean()"
   ]
  },
  {
   "cell_type": "code",
   "execution_count": 23,
   "id": "a922806f",
   "metadata": {
    "execution": {
     "iopub.execute_input": "2023-09-05T18:46:27.875785Z",
     "iopub.status.busy": "2023-09-05T18:46:27.875340Z",
     "iopub.status.idle": "2023-09-05T18:46:27.883704Z",
     "shell.execute_reply": "2023-09-05T18:46:27.882435Z"
    },
    "papermill": {
     "duration": 0.029115,
     "end_time": "2023-09-05T18:46:27.886465",
     "exception": false,
     "start_time": "2023-09-05T18:46:27.857350",
     "status": "completed"
    },
    "tags": []
   },
   "outputs": [
    {
     "data": {
      "text/plain": [
       "1.0"
      ]
     },
     "execution_count": 23,
     "metadata": {},
     "output_type": "execute_result"
    }
   ],
   "source": [
    "X.std()"
   ]
  },
  {
   "cell_type": "markdown",
   "id": "3a67cf55",
   "metadata": {
    "papermill": {
     "duration": 0.015603,
     "end_time": "2023-09-05T18:46:27.918294",
     "exception": false,
     "start_time": "2023-09-05T18:46:27.902691",
     "status": "completed"
    },
    "tags": []
   },
   "source": [
    "# 6- Train Test Split"
   ]
  },
  {
   "cell_type": "code",
   "execution_count": 24,
   "id": "cbc18375",
   "metadata": {
    "execution": {
     "iopub.execute_input": "2023-09-05T18:46:27.953587Z",
     "iopub.status.busy": "2023-09-05T18:46:27.952354Z",
     "iopub.status.idle": "2023-09-05T18:46:27.960576Z",
     "shell.execute_reply": "2023-09-05T18:46:27.959513Z"
    },
    "papermill": {
     "duration": 0.028853,
     "end_time": "2023-09-05T18:46:27.963082",
     "exception": false,
     "start_time": "2023-09-05T18:46:27.934229",
     "status": "completed"
    },
    "tags": []
   },
   "outputs": [],
   "source": [
    "X_train, X_test, y_train, y_test = train_test_split(X, y, random_state=0)"
   ]
  },
  {
   "cell_type": "markdown",
   "id": "218d48fa",
   "metadata": {
    "papermill": {
     "duration": 0.015507,
     "end_time": "2023-09-05T18:46:27.994809",
     "exception": false,
     "start_time": "2023-09-05T18:46:27.979302",
     "status": "completed"
    },
    "tags": []
   },
   "source": [
    "# 7- Modeling"
   ]
  },
  {
   "cell_type": "code",
   "execution_count": 25,
   "id": "2d76b92b",
   "metadata": {
    "execution": {
     "iopub.execute_input": "2023-09-05T18:46:28.028764Z",
     "iopub.status.busy": "2023-09-05T18:46:28.028307Z",
     "iopub.status.idle": "2023-09-05T18:46:28.059266Z",
     "shell.execute_reply": "2023-09-05T18:46:28.057570Z"
    },
    "papermill": {
     "duration": 0.053306,
     "end_time": "2023-09-05T18:46:28.063994",
     "exception": false,
     "start_time": "2023-09-05T18:46:28.010688",
     "status": "completed"
    },
    "tags": []
   },
   "outputs": [],
   "source": [
    "LR = LogisticRegression().fit(X_train, y_train.values.ravel())"
   ]
  },
  {
   "cell_type": "markdown",
   "id": "f9186388",
   "metadata": {
    "papermill": {
     "duration": 0.034454,
     "end_time": "2023-09-05T18:46:28.132402",
     "exception": false,
     "start_time": "2023-09-05T18:46:28.097948",
     "status": "completed"
    },
    "tags": []
   },
   "source": [
    " # 8- Predicting"
   ]
  },
  {
   "cell_type": "code",
   "execution_count": 26,
   "id": "480dcc78",
   "metadata": {
    "execution": {
     "iopub.execute_input": "2023-09-05T18:46:28.190301Z",
     "iopub.status.busy": "2023-09-05T18:46:28.189721Z",
     "iopub.status.idle": "2023-09-05T18:46:28.198483Z",
     "shell.execute_reply": "2023-09-05T18:46:28.196853Z"
    },
    "papermill": {
     "duration": 0.035476,
     "end_time": "2023-09-05T18:46:28.202845",
     "exception": false,
     "start_time": "2023-09-05T18:46:28.167369",
     "status": "completed"
    },
    "tags": []
   },
   "outputs": [],
   "source": [
    "y_pred = LR.predict(X_test)"
   ]
  },
  {
   "cell_type": "markdown",
   "id": "cde654f2",
   "metadata": {
    "papermill": {
     "duration": 0.033987,
     "end_time": "2023-09-05T18:46:28.270106",
     "exception": false,
     "start_time": "2023-09-05T18:46:28.236119",
     "status": "completed"
    },
    "tags": []
   },
   "source": [
    "# 9- Confusiosn Matrix"
   ]
  },
  {
   "cell_type": "code",
   "execution_count": 27,
   "id": "c62d649f",
   "metadata": {
    "execution": {
     "iopub.execute_input": "2023-09-05T18:46:28.326883Z",
     "iopub.status.busy": "2023-09-05T18:46:28.326103Z",
     "iopub.status.idle": "2023-09-05T18:46:28.650059Z",
     "shell.execute_reply": "2023-09-05T18:46:28.648716Z"
    },
    "papermill": {
     "duration": 0.351689,
     "end_time": "2023-09-05T18:46:28.654412",
     "exception": false,
     "start_time": "2023-09-05T18:46:28.302723",
     "status": "completed"
    },
    "tags": []
   },
   "outputs": [
    {
     "data": {
      "image/png": "[encoded data removed]",
      "text/plain": [
       "<Figure size 640x480 with 2 Axes>"
      ]
     },
     "metadata": {},
     "output_type": "display_data"
    }
   ],
   "source": [
    "confusion_matrix = metrics.confusion_matrix(y_test, y_pred)\n",
    "cm_display = metrics.ConfusionMatrixDisplay(confusion_matrix = confusion_matrix, display_labels = [0, 1])\n",
    "cm_display.plot()\n",
    "plt.show()"
   ]
  },
  {
   "cell_type": "markdown",
   "id": "2c8ce29c",
   "metadata": {
    "papermill": {
     "duration": 0.020871,
     "end_time": "2023-09-05T18:46:28.696178",
     "exception": false,
     "start_time": "2023-09-05T18:46:28.675307",
     "status": "completed"
    },
    "tags": []
   },
   "source": [
    "# 10- Checking Accuracy"
   ]
  },
  {
   "cell_type": "code",
   "execution_count": 28,
   "id": "0c58a7ad",
   "metadata": {
    "execution": {
     "iopub.execute_input": "2023-09-05T18:46:28.730946Z",
     "iopub.status.busy": "2023-09-05T18:46:28.730471Z",
     "iopub.status.idle": "2023-09-05T18:46:28.744596Z",
     "shell.execute_reply": "2023-09-05T18:46:28.743360Z"
    },
    "papermill": {
     "duration": 0.034839,
     "end_time": "2023-09-05T18:46:28.747232",
     "exception": false,
     "start_time": "2023-09-05T18:46:28.712393",
     "status": "completed"
    },
    "tags": []
   },
   "outputs": [
    {
     "data": {
      "text/plain": [
       "0.8528784648187633"
      ]
     },
     "execution_count": 28,
     "metadata": {},
     "output_type": "execute_result"
    }
   ],
   "source": [
    "accuracy_score(y_test, y_pred)"
   ]
  },
  {
   "cell_type": "markdown",
   "id": "624eda48",
   "metadata": {
    "papermill": {
     "duration": 0.016097,
     "end_time": "2023-09-05T18:46:28.779712",
     "exception": false,
     "start_time": "2023-09-05T18:46:28.763615",
     "status": "completed"
    },
    "tags": []
   },
   "source": [
    "# 11- Checking The Probablity of Heart Disease for Test Set"
   ]
  },
  {
   "cell_type": "code",
   "execution_count": 29,
   "id": "3131325f",
   "metadata": {
    "execution": {
     "iopub.execute_input": "2023-09-05T18:46:28.814276Z",
     "iopub.status.busy": "2023-09-05T18:46:28.813860Z",
     "iopub.status.idle": "2023-09-05T18:46:28.827582Z",
     "shell.execute_reply": "2023-09-05T18:46:28.825581Z"
    },
    "papermill": {
     "duration": 0.035804,
     "end_time": "2023-09-05T18:46:28.831753",
     "exception": false,
     "start_time": "2023-09-05T18:46:28.795949",
     "status": "completed"
    },
    "tags": []
   },
   "outputs": [],
   "source": [
    "y_pred_prob = LR.predict_proba(X_test)"
   ]
  },
  {
   "cell_type": "code",
   "execution_count": 30,
   "id": "200c8e21",
   "metadata": {
    "execution": {
     "iopub.execute_input": "2023-09-05T18:46:28.903182Z",
     "iopub.status.busy": "2023-09-05T18:46:28.902469Z",
     "iopub.status.idle": "2023-09-05T18:46:28.914329Z",
     "shell.execute_reply": "2023-09-05T18:46:28.912384Z"
    },
    "papermill": {
     "duration": 0.052224,
     "end_time": "2023-09-05T18:46:28.918230",
     "exception": false,
     "start_time": "2023-09-05T18:46:28.866006",
     "status": "completed"
    },
    "tags": []
   },
   "outputs": [
    {
     "data": {
      "text/plain": [
       "array([[0.97456365, 0.02543635],\n",
       "       [0.77770906, 0.22229094],\n",
       "       [0.97685885, 0.02314115],\n",
       "       ...,\n",
       "       [0.8732486 , 0.1267514 ],\n",
       "       [0.86256937, 0.13743063],\n",
       "       [0.93793074, 0.06206926]])"
      ]
     },
     "execution_count": 30,
     "metadata": {},
     "output_type": "execute_result"
    }
   ],
   "source": [
    "y_pred_prob"
   ]
  },
  {
   "cell_type": "markdown",
   "id": "a15ee9c8",
   "metadata": {
    "papermill": {
     "duration": 0.019588,
     "end_time": "2023-09-05T18:46:28.970454",
     "exception": false,
     "start_time": "2023-09-05T18:46:28.950866",
     "status": "completed"
    },
    "tags": []
   },
   "source": []
  }
 ],
 "kernelspec": {
  "display_name": "Python 3",
  "language": "python",
  "name": "python3"
 },
 "language_info": {
  "codemirror_mode": {
   "name": "ipython",
   "version": 3
  },
  "file_extension": ".py",
  "mimetype": "text/x-python",
  "name": "python",
  "nbconvert_exporter": "python",
  "pygments_lexer": "ipython3",
  "version": "3.6.4"
 },
 "metadata": {
  "kernelspec": {
   "display_name": "Python 3",
   "language": "python",
   "name": "python3"
  },
  "language_info": {
   "codemirror_mode": {
    "name": "ipython",
    "version": 3
   },
   "file_extension": ".py",
   "mimetype": "text/x-python",
   "name": "python",
   "nbconvert_exporter": "python",
   "pygments_lexer": "ipython3",
   "version": "3.11.3"
  },
  "papermill": {
   "default_parameters": {},
   "duration": 10.777672,
   "end_time": "2023-09-05T18:46:29.713512",
   "environment_variables": {},
   "exception": null,
   "input_path": "__notebook__.ipynb",
   "output_path": "__notebook__.ipynb",
   "parameters": {},
   "start_time": "2023-09-05T18:46:18.935840",
   "version": "2.4.0"
  }
 },
 "nbformat": 4,
 "nbformat_minor": 5
}
